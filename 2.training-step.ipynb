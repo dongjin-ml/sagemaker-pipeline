{
 "cells": [
  {
   "cell_type": "markdown",
   "id": "287804a3-c5a3-4a63-9a1e-786e584f4505",
   "metadata": {},
   "source": [
    "# <B> Training step examples </B>"
   ]
  },
  {
   "cell_type": "markdown",
   "id": "136207d8-bec1-4a03-aead-0247c9c442f3",
   "metadata": {},
   "source": [
    "## AutoReload"
   ]
  },
  {
   "cell_type": "code",
   "execution_count": 52,
   "id": "c02d64bf-402a-46d7-b1b6-7553f74db725",
   "metadata": {},
   "outputs": [
    {
     "name": "stdout",
     "output_type": "stream",
     "text": [
      "The autoreload extension is already loaded. To reload it, use:\n",
      "  %reload_ext autoreload\n"
     ]
    }
   ],
   "source": [
    "%load_ext autoreload\n",
    "%autoreload 2"
   ]
  },
  {
   "cell_type": "markdown",
   "id": "bc557131-eb1b-41dd-a30b-dc5a1c316a84",
   "metadata": {},
   "source": [
    "## 1. parameter store 셋팅"
   ]
  },
  {
   "cell_type": "code",
   "execution_count": 53,
   "id": "af09c000-4202-4a3d-b848-9f249d89907d",
   "metadata": {},
   "outputs": [],
   "source": [
    "import boto3\n",
    "from utils.ssm import parameter_store"
   ]
  },
  {
   "cell_type": "code",
   "execution_count": 54,
   "id": "4392b7e8-59f9-4c81-b9a8-a0b3a14599b7",
   "metadata": {},
   "outputs": [],
   "source": [
    "strRegionName=boto3.Session().region_name\n",
    "pm = parameter_store(strRegionName)\n",
    "strPrefix = pm.get_params(key=\"PREFIX\")"
   ]
  },
  {
   "cell_type": "markdown",
   "id": "feb85ed1-7320-4e66-80be-d4f138bf504a",
   "metadata": {},
   "source": [
    "## 2. training job 만들기"
   ]
  },
  {
   "cell_type": "code",
   "execution_count": 55,
   "id": "bade2c8e-eaef-49f1-8988-a4fcd2fdef81",
   "metadata": {},
   "outputs": [],
   "source": [
    "import sagemaker\n",
    "from sagemaker.estimator import Estimator\n",
    "from sagemaker.inputs import TrainingInput\n",
    "from sagemaker.tuner import IntegerParameter, CategoricalParameter, ContinuousParameter, HyperparameterTuner"
   ]
  },
  {
   "cell_type": "code",
   "execution_count": 56,
   "id": "57142237-becd-4fd8-91cb-6f415e8593be",
   "metadata": {},
   "outputs": [],
   "source": [
    "pipeline_session = PipelineSession()\n",
    "model_image_uri = sagemaker.image_uris.retrieve(\"blazingtext\", strRegionName)\n",
    "objective_name = \"validation:accuracy\"\n",
    "max_jobs = 6\n",
    "max_parallel_jobs = 3"
   ]
  },
  {
   "cell_type": "markdown",
   "id": "638146cc-193d-4ad3-9062-36004920cc7f",
   "metadata": {},
   "source": [
    "#### 2.1. estimator"
   ]
  },
  {
   "cell_type": "code",
   "execution_count": 57,
   "id": "523355fb-66fc-47ed-b9c6-8d8a3dc4177c",
   "metadata": {},
   "outputs": [],
   "source": [
    "estimator=Estimator(\n",
    "    base_job_name=\"training\",\n",
    "    image_uri=model_image_uri,\n",
    "    role=pm.get_params(key=strPrefix + \"SAGEMAKER-ROLE-ARN\"), \n",
    "    instance_count=1,\n",
    "    instance_type=\"ml.m5.xlarge\",\n",
    "    volume_size=30,\n",
    "    max_run=360000,\n",
    "    input_mode= 'File',\n",
    "    #sagemaker_session=self.pipeline_session\n",
    ")"
   ]
  },
  {
   "cell_type": "markdown",
   "id": "d456f43d-b0f5-4c12-9093-9072b20545a2",
   "metadata": {},
   "source": [
    "#### 2.2. hyperparamters"
   ]
  },
  {
   "cell_type": "code",
   "execution_count": 58,
   "id": "5ec367d4-b127-4f01-91a6-fe3226d324e5",
   "metadata": {},
   "outputs": [],
   "source": [
    "estimator.set_hyperparameters(\n",
    "    mode=\"supervised\",\n",
    "    epochs=10,\n",
    "    min_epochs=5, # Min epochs before early stopping is introduced\n",
    "    early_stopping=True,\n",
    "    patience=2,\n",
    "    learning_rate=0.01,\n",
    "    min_count=2, # words that appear less than min_count are discarded \n",
    "    word_ngrams=1, # the number of word n-gram features to use.\n",
    "    vector_dim=16, # dimensions of embedding layer\n",
    ") \n",
    "\n",
    "hyperparameter_ranges={\n",
    "    'epochs': IntegerParameter(5, 50),\n",
    "    'learning_rate': ContinuousParameter(0.005, 0.01),\n",
    "    'min_count': IntegerParameter(0, 100),\n",
    "    'vector_dim': IntegerParameter(32, 300),\n",
    "    'word_ngrams': IntegerParameter(1, 3)\n",
    "}\n",
    "\n",
    "tuner = HyperparameterTuner(\n",
    "    estimator, \n",
    "    objective_name,\n",
    "    hyperparameter_ranges,\n",
    "    max_jobs=max_jobs,\n",
    "    max_parallel_jobs=max_parallel_jobs,\n",
    "    base_tuning_job_name=\"hptune\"\n",
    ")"
   ]
  },
  {
   "cell_type": "markdown",
   "id": "4be2322b-f947-4b11-8d55-800e581c1f63",
   "metadata": {},
   "source": [
    "#### 2.3 training"
   ]
  },
  {
   "cell_type": "code",
   "execution_count": 59,
   "id": "fe5f31a7-7910-4c12-982b-11cd9bf8f457",
   "metadata": {},
   "outputs": [
    {
     "name": "stderr",
     "output_type": "stream",
     "text": [
      "No finished training job found associated with this estimator. Please make sure this estimator is only used for building workflow config\n"
     ]
    }
   ],
   "source": [
    "tuner.fit(\n",
    "    job_name = \"hyper-param-tune\",\n",
    "    inputs={\n",
    "        \"train\": TrainingInput(\n",
    "            s3_data=pm.get_params(key=strPrefix + \"TRAIN-DATA-PATH\"),\n",
    "            content_type=\"text/csv\"\n",
    "        ),\n",
    "        \"validation\": TrainingInput(\n",
    "            s3_data=pm.get_params(key=strPrefix + \"VALID-DATA-PATH\"),\n",
    "            content_type=\"text/csv\"\n",
    "        )\n",
    "    },\n",
    "    wait=False\n",
    ")"
   ]
  },
  {
   "cell_type": "markdown",
   "id": "9dd9fd1a-6638-4ccf-8270-ca0b1265abff",
   "metadata": {},
   "source": [
    "### appendix"
   ]
  },
  {
   "cell_type": "markdown",
   "id": "2d6bde98-592a-43a0-a5e1-d782a7bd40be",
   "metadata": {},
   "source": [
    "### pytorch esimator\n",
    "* https://sagemaker.readthedocs.io/en/stable/frameworks/pytorch/using_pytorch.html <br>\n",
    "* https://sagemaker.readthedocs.io/en/stable/frameworks/pytorch/sagemaker.pytorch.html"
   ]
  },
  {
   "cell_type": "code",
   "execution_count": null,
   "id": "94fcc0d7-e43c-48b9-943e-ef9381938c5e",
   "metadata": {},
   "outputs": [],
   "source": []
  }
 ],
 "metadata": {
  "kernelspec": {
   "display_name": "conda_python3",
   "language": "python",
   "name": "conda_python3"
  },
  "language_info": {
   "codemirror_mode": {
    "name": "ipython",
    "version": 3
   },
   "file_extension": ".py",
   "mimetype": "text/x-python",
   "name": "python",
   "nbconvert_exporter": "python",
   "pygments_lexer": "ipython3",
   "version": "3.8.12"
  }
 },
 "nbformat": 4,
 "nbformat_minor": 5
}
