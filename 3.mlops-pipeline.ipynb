{
 "cells": [
  {
   "cell_type": "markdown",
   "id": "65dbb864-3380-4309-8a6e-337f4e24012a",
   "metadata": {},
   "source": [
    "# <B> MLOps pipeline examples </B>"
   ]
  },
  {
   "cell_type": "markdown",
   "id": "3636ec34-6519-4ec0-a04e-dbc1a241f3f8",
   "metadata": {},
   "source": [
    "## AutoReload"
   ]
  },
  {
   "cell_type": "code",
   "execution_count": 47,
   "id": "66c2de5c-a7eb-474b-9bea-527010c87b1b",
   "metadata": {},
   "outputs": [
    {
     "name": "stdout",
     "output_type": "stream",
     "text": [
      "The autoreload extension is already loaded. To reload it, use:\n",
      "  %reload_ext autoreload\n"
     ]
    }
   ],
   "source": [
    "%load_ext autoreload\n",
    "%autoreload 2"
   ]
  },
  {
   "cell_type": "markdown",
   "id": "8a0eaaa7-faff-46a8-88ca-370a0205b4f7",
   "metadata": {},
   "source": [
    "## 1. parameter store 셋팅"
   ]
  },
  {
   "cell_type": "code",
   "execution_count": 48,
   "id": "cb0ee2be-9c4e-4e99-8ce2-491799d656dc",
   "metadata": {},
   "outputs": [],
   "source": [
    "import boto3\n",
    "from utils.ssm import parameter_store"
   ]
  },
  {
   "cell_type": "code",
   "execution_count": 49,
   "id": "896455cc-b08e-4e30-8519-1d4689421071",
   "metadata": {},
   "outputs": [],
   "source": [
    "strRegionName=boto3.Session().region_name\n",
    "pm = parameter_store(strRegionName)\n",
    "strPrefix = pm.get_params(key=\"PREFIX\")"
   ]
  },
  {
   "cell_type": "markdown",
   "id": "0fb3c6c1-e623-4cc9-982f-9238b15c4e9f",
   "metadata": {},
   "source": [
    "## 2. mlops pipeline 만들기\n",
    "* pipeline: https://sagemaker.readthedocs.io/en/stable/amazon_sagemaker_model_building_pipeline.html#id2"
   ]
  },
  {
   "cell_type": "code",
   "execution_count": 50,
   "id": "fc247432-908e-4714-ba2e-c4be801e27ba",
   "metadata": {},
   "outputs": [],
   "source": [
    "import sagemaker\n",
    "from sagemaker.estimator import Estimator\n",
    "from sagemaker.inputs import TrainingInput\n",
    "from sagemaker.workflow.pipeline import Pipeline\n",
    "from sagemaker.sklearn.processing import SKLearnProcessor\n",
    "from sagemaker.workflow.pipeline_context import PipelineSession\n",
    "from sagemaker.processing import ProcessingInput, ProcessingOutput\n",
    "from sagemaker.workflow.steps import CacheConfig, ProcessingStep, TuningStep\n",
    "from sagemaker.tuner import IntegerParameter, CategoricalParameter, ContinuousParameter, HyperparameterTuner"
   ]
  },
  {
   "cell_type": "code",
   "execution_count": 53,
   "id": "77700d7a-f6e8-4f7e-9ca4-0f18bb251ce9",
   "metadata": {},
   "outputs": [],
   "source": [
    "class pipeline():\n",
    "    \n",
    "    def __init__(self, ): \n",
    "        self.strRegionName = boto3.Session().region_name\n",
    "        self.pm = parameter_store(self.strRegionName)\n",
    "        strPrefix = pm.get_params(key=\"PREFIX\")\n",
    "        \n",
    "        self.account_id = pm.get_params(key=strPrefix + \"ACCOUNT-ID\")\n",
    "        self.default_bucket = self.pm.get_params(key=strPrefix + \"BUCKET\") # sagemaker.Session().default_bucket()\n",
    "        self.role = self.pm.get_params(key=strPrefix + \"SAGEMAKER-ROLE-ARN\")#self.args.config.get_value(\"ROLE\", \"sagemaker_execution_role\")\n",
    "        self.strInOutPrefix = '/opt/ml/processing'\n",
    "        self.sm_client = boto3.client('sagemaker') \n",
    "        self.pipeline_session = PipelineSession()\n",
    "        self.cache_config = CacheConfig(\n",
    "            enable_caching=True,\n",
    "            expire_after=\"T48H\"\n",
    "        )    \n",
    "        self.model_image_uri = sagemaker.image_uris.retrieve(\"blazingtext\", self.strRegionName)\n",
    "       \n",
    "        print (f'  Account-ID: {self.account_id}, \\nRegion: {self.strRegionName}, \\nRole: {self.role}, \\nDefault_bucket: {self.default_bucket}')\n",
    "        print (f'  pipeline_session: {self.pipeline_session}')\n",
    "        \n",
    "    def _step_preprocessing(self, ):\n",
    "        \n",
    "        sklearn_processor = SKLearnProcessor(\n",
    "            framework_version=\"0.20.0\",\n",
    "            role=self.role,\n",
    "            instance_type=\"ml.m5.xlarge\",\n",
    "            #instance_type=\"local\",\n",
    "            instance_count=1,\n",
    "            base_job_name=\"preprocessing\", # bucket에 보이는 이름 (pipeline으로 묶으면 pipeline에서 정의한 이름으로 bucket에 보임)\n",
    "            sagemaker_session=self.pipeline_session ## Add\n",
    "        )\n",
    "        \n",
    "        step_args = sklearn_processor.run(\n",
    "            code='./sources/preprocessing/preprocessing.py',\n",
    "            inputs=[\n",
    "                ProcessingInput(\n",
    "                    source=pm.get_params(key=strPrefix + \"REVIEW-DATA-PATH\"),\n",
    "                    destination='/opt/ml/processing/input'\n",
    "                ),\n",
    "                ProcessingInput(\n",
    "                    input_name=\"requirements\",\n",
    "                    source='./sources/preprocessing/requirements.txt',\n",
    "                    destination=\"/opt/ml/processing/input/requirements\"\n",
    "                ),\n",
    "            ],\n",
    "            outputs=[\n",
    "                ProcessingOutput(output_name=\"train_data\", source='/opt/ml/processing/output/train'),\n",
    "                ProcessingOutput(output_name=\"validation_data\", source='/opt/ml/processing/output/validation'),\n",
    "                ProcessingOutput(output_name=\"test_data\", source='/opt/ml/processing/output/test')\n",
    "            ],\n",
    "            arguments=[\"--input_name\", \"reviews.tsv.gz\", \"--region\", strRegionName],\n",
    "            job_name=\"preprocessing\",\n",
    "        )\n",
    "        \n",
    "        self.preprocessing_process = ProcessingStep(\n",
    "            name=\"PreprocessingProcess\", ## Processing job이름\n",
    "            step_args=step_args,\n",
    "            cache_config=self.cache_config,\n",
    "        )\n",
    "        \n",
    "    def _step_training(self, ):\n",
    "        \n",
    "        max_jobs = 6\n",
    "        max_parallel_jobs = 3\n",
    "        objective_name = \"validation:accuracy\"\n",
    "        \n",
    "        self.estimator=Estimator(\n",
    "            image_uri=self.model_image_uri,\n",
    "            role=self.role, \n",
    "            instance_count=1,\n",
    "            instance_type=\"ml.m5.xlarge\",\n",
    "            volume_size=30,\n",
    "            max_run=360000,\n",
    "            input_mode= 'File',\n",
    "            sagemaker_session=self.pipeline_session ## add\n",
    "        )\n",
    "\n",
    "        self.estimator.set_hyperparameters(\n",
    "            mode=\"supervised\",\n",
    "            epochs=10,\n",
    "            min_epochs=5, # Min epochs before early stopping is introduced\n",
    "            early_stopping=True,\n",
    "            patience=2,\n",
    "            learning_rate=0.01,\n",
    "            min_count=2, # words that appear less than min_count are discarded \n",
    "            word_ngrams=1, # the number of word n-gram features to use.\n",
    "            vector_dim=16, # dimensions of embedding layer\n",
    "        ) \n",
    "\n",
    "        hyperparameter_ranges={\n",
    "            'epochs': IntegerParameter(5, 50),\n",
    "            'learning_rate': ContinuousParameter(0.005, 0.01),\n",
    "            'min_count': IntegerParameter(0, 100),\n",
    "            'vector_dim': IntegerParameter(32, 300),\n",
    "            'word_ngrams': IntegerParameter(1, 3)\n",
    "        }\n",
    "        \n",
    "        tuner = HyperparameterTuner(\n",
    "            self.estimator, \n",
    "            objective_name,\n",
    "            hyperparameter_ranges,\n",
    "            max_jobs=max_jobs,\n",
    "            max_parallel_jobs=max_parallel_jobs,\n",
    "            base_tuning_job_name=\"hyper-param-tune\",\n",
    "        )\n",
    "        \n",
    "        step_tuner_args = tuner.fit(\n",
    "            inputs={\n",
    "                \"train\": TrainingInput(\n",
    "                    s3_data=self.preprocessing_process.properties.ProcessingOutputConfig.Outputs[\"train_data\"].S3Output.S3Uri,\n",
    "                    content_type=\"text/csv\"\n",
    "                ),\n",
    "                \"validation\": TrainingInput(\n",
    "                    s3_data=self.preprocessing_process.properties.ProcessingOutputConfig.Outputs[\"validation_data\"].S3Output.S3Uri,\n",
    "                    content_type=\"text/csv\"\n",
    "                )\n",
    "            }\n",
    "        )\n",
    "        \n",
    "        self.tuning_process = TuningStep(\n",
    "            name=\"TrainWithHyperParamTuningProcess\",\n",
    "            step_args=step_tuner_args,\n",
    "            cache_config=self.cache_config,\n",
    "            depends_on=[self.preprocessing_process]\n",
    "        )\n",
    "    \n",
    "    def _get_pipeline(self, ):\n",
    "        \n",
    "        pipeline_name = 'pipeline-demo'\n",
    "        pipeline = Pipeline(\n",
    "            name=pipeline_name,\n",
    "            steps=[self.preprocessing_process, self.tuning_process],\n",
    "        )\n",
    "\n",
    "        return pipeline\n",
    "                            \n",
    "    def execution(self, ):\n",
    "        \n",
    "        self._step_preprocessing()\n",
    "        self._step_training()\n",
    "        \n",
    "        pipeline = self._get_pipeline()\n",
    "        pipeline.upsert(role_arn=self.role) ## Submit the pipeline definition to the SageMaker Pipelines service \n",
    "        execution = pipeline.start()\n",
    "        execution.describe()"
   ]
  },
  {
   "cell_type": "code",
   "execution_count": 54,
   "id": "42aa6bdc-5339-4243-b00b-2400349d7897",
   "metadata": {},
   "outputs": [
    {
     "name": "stdout",
     "output_type": "stream",
     "text": [
      "  Account-ID: 419974056037, \n",
      "Region: ap-northeast-2, \n",
      "Role: arn:aws:iam::419974056037:role/service-role/AmazonSageMaker-ExecutionRole-20221206T163436, \n",
      "Default_bucket: sagemaker-ap-northeast-2-419974056037\n",
      "  pipeline_session: <sagemaker.workflow.pipeline_context.PipelineSession object at 0x7f66ef68cbe0>\n"
     ]
    },
    {
     "name": "stderr",
     "output_type": "stream",
     "text": [
      "No finished training job found associated with this estimator. Please make sure this estimator is only used for building workflow config\n"
     ]
    },
    {
     "name": "stdout",
     "output_type": "stream",
     "text": [
      "\n",
      "Job Name:  preprocessing\n",
      "Inputs:  [{'InputName': 'input-1', 'AppManaged': False, 'S3Input': {'S3Uri': 's3://sagemaker-ap-northeast-2-419974056037/reviews-helpfulness-pipeline/data/reviews.tsv.gz', 'LocalPath': '/opt/ml/processing/input', 'S3DataType': 'S3Prefix', 'S3InputMode': 'File', 'S3DataDistributionType': 'FullyReplicated', 'S3CompressionType': 'None'}}, {'InputName': 'requirements', 'AppManaged': False, 'S3Input': {'S3Uri': 's3://sagemaker-ap-northeast-2-419974056037/preprocessing/input/requirements/requirements.txt', 'LocalPath': '/opt/ml/processing/input/requirements', 'S3DataType': 'S3Prefix', 'S3InputMode': 'File', 'S3DataDistributionType': 'FullyReplicated', 'S3CompressionType': 'None'}}, {'InputName': 'code', 'AppManaged': False, 'S3Input': {'S3Uri': 's3://sagemaker-ap-northeast-2-419974056037/preprocessing/input/code/preprocessing.py', 'LocalPath': '/opt/ml/processing/input/code', 'S3DataType': 'S3Prefix', 'S3InputMode': 'File', 'S3DataDistributionType': 'FullyReplicated', 'S3CompressionType': 'None'}}]\n",
      "Outputs:  [{'OutputName': 'train_data', 'AppManaged': False, 'S3Output': {'S3Uri': 's3://sagemaker-ap-northeast-2-419974056037/preprocessing/output/train_data', 'LocalPath': '/opt/ml/processing/output/train', 'S3UploadMode': 'EndOfJob'}}, {'OutputName': 'validation_data', 'AppManaged': False, 'S3Output': {'S3Uri': 's3://sagemaker-ap-northeast-2-419974056037/preprocessing/output/validation_data', 'LocalPath': '/opt/ml/processing/output/validation', 'S3UploadMode': 'EndOfJob'}}, {'OutputName': 'test_data', 'AppManaged': False, 'S3Output': {'S3Uri': 's3://sagemaker-ap-northeast-2-419974056037/preprocessing/output/test_data', 'LocalPath': '/opt/ml/processing/output/test', 'S3UploadMode': 'EndOfJob'}}]\n"
     ]
    }
   ],
   "source": [
    "pipe = pipeline()\n",
    "pipe.execution()"
   ]
  },
  {
   "cell_type": "code",
   "execution_count": null,
   "id": "2d10c414-e661-416f-8689-5695fa6c0f38",
   "metadata": {},
   "outputs": [],
   "source": []
  },
  {
   "cell_type": "code",
   "execution_count": null,
   "id": "0f387e10-1e75-486f-b646-80510d1276c7",
   "metadata": {},
   "outputs": [],
   "source": []
  }
 ],
 "metadata": {
  "kernelspec": {
   "display_name": "conda_python3",
   "language": "python",
   "name": "conda_python3"
  },
  "language_info": {
   "codemirror_mode": {
    "name": "ipython",
    "version": 3
   },
   "file_extension": ".py",
   "mimetype": "text/x-python",
   "name": "python",
   "nbconvert_exporter": "python",
   "pygments_lexer": "ipython3",
   "version": "3.8.12"
  }
 },
 "nbformat": 4,
 "nbformat_minor": 5
}
